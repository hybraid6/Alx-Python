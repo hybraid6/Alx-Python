{
 "cells": [
  {
   "cell_type": "markdown",
   "id": "cd88ea27",
   "metadata": {},
   "source": [
    "<div align=\"center\" style=\" font-size: 80%; text-align: center; margin: 0 auto\">\n",
    "<img src=\"https://raw.githubusercontent.com/Explore-AI/Pictures/master/Python-Notebook-Banners/Exercise.png\"  style=\"display: block; margin-left: auto; margin-right: auto;\";/>\n",
    "</div>"
   ]
  },
  {
   "cell_type": "markdown",
   "id": "f662d169",
   "metadata": {},
   "source": [
    "# Exercise: Introduction to NumPy\n",
    "© ExploreAI Academy"
   ]
  },
  {
   "cell_type": "markdown",
   "id": "26af890c",
   "metadata": {},
   "source": [
    "In this notebook, we explore the fundamentals of NumPy for efficient data manipulation and analysis in Python.\n"
   ]
  },
  {
   "cell_type": "markdown",
   "id": "2d230d14",
   "metadata": {
    "tags": []
   },
   "source": [
    "## Learning objectives\n",
    "\n",
    "In this train we will learn:\n",
    "- How to create, reshape, and manipulate arrays using NumPy.\n",
    "- How to access and modify elements in NumPy arrays.\n",
    "- Apply key NumPy functions to analyse real-world problems."
   ]
  },
  {
   "cell_type": "markdown",
   "id": "de45a481",
   "metadata": {},
   "source": [
    "## Exercises"
   ]
  },
  {
   "cell_type": "code",
   "execution_count": 1,
   "id": "286a2b45",
   "metadata": {},
   "outputs": [],
   "source": [
    "import numpy as np"
   ]
  },
  {
   "cell_type": "markdown",
   "id": "5a0b7683",
   "metadata": {
    "tags": []
   },
   "source": [
    "### Exercise 1\n",
    "\n",
    "Given a 2D Numpy array `pollution_data `representing daily air quality index values of a city for a week (rows for days and columns for different pollutants), write a code snippet to return the day (row) with the highest average pollution level."
   ]
  },
  {
   "cell_type": "code",
   "execution_count": 4,
   "id": "b1351d72",
   "metadata": {},
   "outputs": [],
   "source": [
    "pollution_data = np.array([[45, 65, 70], [55, 60, 50], [60, 58, 67]])"
   ]
  },
  {
   "cell_type": "code",
   "execution_count": 5,
   "id": "c2ee76ec",
   "metadata": {},
   "outputs": [
    {
     "name": "stdout",
     "output_type": "stream",
     "text": [
      "[60 58 67]\n"
     ]
    }
   ],
   "source": [
    "highest_average_pollution_level = np.argmax(pollution_data.mean(axis=1))\n",
    "\n",
    "print(pollution_data[highest_average_pollution_level])"
   ]
  },
  {
   "cell_type": "code",
   "execution_count": 6,
   "id": "c4b3ae59",
   "metadata": {},
   "outputs": [
    {
     "data": {
      "text/plain": [
       "2"
      ]
     },
     "execution_count": 6,
     "metadata": {},
     "output_type": "execute_result"
    }
   ],
   "source": [
    "highest_average_pollution_level"
   ]
  },
  {
   "cell_type": "markdown",
   "id": "dc9b7dc6",
   "metadata": {},
   "source": [
    "### Exercise 2\n",
    "\n",
    "A forest department is monitoring deforestation by analysing satellite data of 5 similarly sized regions. When the monitoring started, each region had full forest coverage (i.e. 100). The most recent data collected has been stored in a 1D Numpy array `forest_coverage`, where each element represents the percentage of forest cover in different regions. Write code to calculate the total percentage of coverage **lost**, if each 1% reduction in forest cover equals 100 square kilometers. "
   ]
  },
  {
   "cell_type": "code",
   "execution_count": 8,
   "id": "8041b7b8",
   "metadata": {},
   "outputs": [],
   "source": [
    "forest_coverage = np.array([70, 80, 65, 90, 85])"
   ]
  },
  {
   "cell_type": "code",
   "execution_count": 9,
   "id": "ae48fab0",
   "metadata": {},
   "outputs": [
    {
     "name": "stdout",
     "output_type": "stream",
     "text": [
      "11000\n"
     ]
    }
   ],
   "source": [
    "total_forest_cover_lost = (100 - forest_coverage).sum() * 100\n",
    "\n",
    "print(total_forest_cover_lost)"
   ]
  },
  {
   "cell_type": "markdown",
   "id": "9a99c787",
   "metadata": {},
   "source": [
    "### Exercise 3\n",
    "\n",
    "For a study on water conservation, we have a 2D Numpy array `water_quality` representing different water quality parameters (columns) for various water bodies (rows). Write code to find the water body index (row index) with the worst average quality parameter."
   ]
  },
  {
   "cell_type": "code",
   "execution_count": 10,
   "id": "a6ab3abb",
   "metadata": {},
   "outputs": [],
   "source": [
    "water_quality = np.array([[7.8, 6.5, 8.0], [5.4, 7.2, 6.5]])"
   ]
  },
  {
   "cell_type": "code",
   "execution_count": 11,
   "id": "62782be2",
   "metadata": {},
   "outputs": [
    {
     "name": "stdout",
     "output_type": "stream",
     "text": [
      "1\n"
     ]
    }
   ],
   "source": [
    "worst_water_quality_index = np.argmin(water_quality.mean(axis=1))\n",
    "\n",
    "print(worst_water_quality_index)"
   ]
  },
  {
   "cell_type": "markdown",
   "id": "2abb248c",
   "metadata": {},
   "source": [
    "### Exercise 4\n",
    "\n",
    "Biologists tracking caracal movement have recorded the number of caracals spotted in different regions in a 2D Numpy array animal_sightings. Each row represents a different region, and columns represent different days. Write a code snippet to find the index of the region with the highest average number of sightings."
   ]
  },
  {
   "cell_type": "code",
   "execution_count": 13,
   "id": "8c6612fb",
   "metadata": {},
   "outputs": [],
   "source": [
    "animal_sightings = np.array([[5, 7, 8], [3, 4, 6], [9, 10, 7]])"
   ]
  },
  {
   "cell_type": "code",
   "execution_count": 14,
   "id": "7a5fba69",
   "metadata": {},
   "outputs": [
    {
     "name": "stdout",
     "output_type": "stream",
     "text": [
      "2\n"
     ]
    }
   ],
   "source": [
    "highest_sightings_region_index = np.argmax(animal_sightings.mean(axis=1))\n",
    "\n",
    "print(highest_sightings_region_index)"
   ]
  },
  {
   "cell_type": "markdown",
   "id": "14e867ae",
   "metadata": {},
   "source": [
    "### Exercise 5\n",
    "\n",
    "`np.reshape()` allows us to change the shape of an array without changing its data. For example, we can reshape a 1D array into a 2D array (matrix) or vice versa, as long as the total number of elements remains the same. Remember to read more about functions in the NumPy documentation if anything is unclear.\n",
    "\n",
    "Biologists have collected data on bird sightings in a region over a month, stored in a 1D Numpy array where each element represents the number of sightings on a particular day. Reshape this data into a 2D array (matrix) representing weeks and days (assume 4 weeks in a month, 7 days per week), and calculate the total sightings for each week."
   ]
  },
  {
   "cell_type": "code",
   "execution_count": 16,
   "id": "4307c3f1",
   "metadata": {},
   "outputs": [],
   "source": [
    "bird_sightings = np.array([3, 4, 2, 5, 1, 0, 4, 3, 5, 2, 1, 7, 8, 1, 2, 3, 4, 1, 0, 5, 6, 2, 3, 4, 1, 4, 6, 7])"
   ]
  },
  {
   "cell_type": "code",
   "execution_count": 17,
   "id": "73da5a3a",
   "metadata": {},
   "outputs": [
    {
     "name": "stdout",
     "output_type": "stream",
     "text": [
      "[19 27 21 27]\n"
     ]
    }
   ],
   "source": [
    "reshaped_sightings = bird_sightings.reshape(4, 7)\n",
    "total_sightings_per_week = reshaped_sightings.sum(axis=1)\n",
    "\n",
    "print(total_sightings_per_week)"
   ]
  },
  {
   "cell_type": "markdown",
   "id": "a4e97ebe",
   "metadata": {},
   "source": [
    "### Exercise 6\n",
    "\n",
    "`np.transpose()` is a NumPy function that flips a matrix over its diagonal, switching the row and column indices of the array. This means that the first row becomes the first column, the second row becomes the second column, and so on.\n",
    "\n",
    "Meteorologists have recorded temperature and precipitation data over a year in a 2D array (rows for months, columns for temperature and precipitation). Transpose the array so that rows represent temperature and precipitation, and columns represent months. Then, calculate the average temperature and precipitation over the year."
   ]
  },
  {
   "cell_type": "code",
   "execution_count": 18,
   "id": "42e9a5ad",
   "metadata": {},
   "outputs": [],
   "source": [
    "climate_data = np.array([[22, 50], [25, 43], [28, 35], [30, 20], [27, 25], [25, 30], [23, 40], [24, 55], [22, 60], [20, 65], [18, 70], [22, 58]])"
   ]
  },
  {
   "cell_type": "code",
   "execution_count": 19,
   "id": "30857e77",
   "metadata": {},
   "outputs": [
    {
     "name": "stdout",
     "output_type": "stream",
     "text": [
      "[[22 25 28 30 27 25 23 24 22 20 18 22]\n",
      " [50 43 35 20 25 30 40 55 60 65 70 58]]\n",
      "23.833333333333332\n",
      "45.916666666666664\n"
     ]
    }
   ],
   "source": [
    "transposed_climate_data = climate_data.transpose()\n",
    "print(transposed_climate_data)\n",
    "\n",
    "average_temperature = transposed_climate_data[0].mean()\n",
    "average_precipitation = transposed_climate_data[1].mean()\n",
    "\n",
    "print(average_temperature)\n",
    "print(average_precipitation)"
   ]
  },
  {
   "cell_type": "markdown",
   "id": "26fd094b-0fee-46f1-a4b8-73766813c42b",
   "metadata": {
    "tags": []
   },
   "source": [
    "#  \n",
    "\n",
    "<div align=\"center\" style=\" font-size: 80%; text-align: center; margin: 0 auto\">\n",
    "<img src=\"https://raw.githubusercontent.com/Explore-AI/Pictures/master/ExploreAI_logos/EAI_Blue_Dark.png\"  style=\"width:200px\";/>\n",
    "</div>"
   ]
  }
 ],
 "metadata": {
  "kernelspec": {
   "display_name": "Python 3 (ipykernel)",
   "language": "python",
   "name": "python3"
  },
  "language_info": {
   "codemirror_mode": {
    "name": "ipython",
    "version": 3
   },
   "file_extension": ".py",
   "mimetype": "text/x-python",
   "name": "python",
   "nbconvert_exporter": "python",
   "pygments_lexer": "ipython3",
   "version": "3.10.9"
  }
 },
 "nbformat": 4,
 "nbformat_minor": 5
}
