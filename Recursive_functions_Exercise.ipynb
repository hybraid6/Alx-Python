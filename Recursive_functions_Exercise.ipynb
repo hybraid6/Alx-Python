{
 "cells": [
  {
   "cell_type": "markdown",
   "id": "cd88ea27",
   "metadata": {},
   "source": [
    "<div align=\"center\" style=\" font-size: 80%; text-align: center; margin: 0 auto\">\n",
    "<img src=\"https://raw.githubusercontent.com/Explore-AI/Pictures/master/Python-Notebook-Banners/Exercise.png\"  style=\"display: block; margin-left: auto; margin-right: auto;\";/>\n",
    "</div>"
   ]
  },
  {
   "cell_type": "markdown",
   "id": "f662d169",
   "metadata": {},
   "source": [
    "# Exercise: Recursive functions\n",
    "© ExploreAI Academy"
   ]
  },
  {
   "cell_type": "markdown",
   "id": "26af890c",
   "metadata": {},
   "source": [
    "In this notebook, we demonstrate the principles and implementation of recursion in Python.\n",
    "\n"
   ]
  },
  {
   "cell_type": "markdown",
   "id": "2d230d14",
   "metadata": {
    "tags": []
   },
   "source": [
    "## Learning objectives\n",
    "\n",
    "In this train we will learn:\n",
    "- How to write recursive functions in Python, focusing on formulating base cases and recursive steps to solve mathematical problems."
   ]
  },
  {
   "cell_type": "markdown",
   "id": "07502a9e",
   "metadata": {},
   "source": [
    "## Exercises"
   ]
  },
  {
   "cell_type": "markdown",
   "id": "0b7189b7",
   "metadata": {},
   "source": [
    "### Exercise 1\n",
    "Convert the mathematical function $f(n) = a^n$ into a recursive function.\n",
    "\n",
    "In mathematics, $a^n$ denotes \"$a$ raised to the power of $n$\", which means multiplying $a$ by itself $n$ times. Your task is to create a function that takes two arguments, `a` and `n`, and calculates $a^n$ using recursion.\n",
    "\n",
    "For example:\n",
    "- If `a` is `2` and `n` is `3`, the function should return `8`, because $2^3$ = 2 x 2 x 2 = 8.\n",
    "- If `a` is `5` and `n` is `0`, the function should return `1`, since any number raised to the power of 0 is 1."
   ]
  },
  {
   "cell_type": "code",
   "execution_count": 1,
   "id": "ef4a8fc0",
   "metadata": {},
   "outputs": [
    {
     "name": "stdout",
     "output_type": "stream",
     "text": [
      "8\n",
      "1\n"
     ]
    }
   ],
   "source": [
    "def exponential(a, n):\n",
    "  # insert code here\n",
    "  return \n",
    "\n",
    "def exponential(a, n):\n",
    "    \n",
    "    # Any number to the power of 0 is 1\n",
    "    if n == 0:\n",
    "        return 1\n",
    "    \n",
    "    # Recursive case: a^n = a * a^(n-1)\n",
    "    else:\n",
    "        return a * exponential(a, n - 1)\n",
    "\n",
    "# Examples\n",
    "print(exponential(2, 3)) \n",
    "print(exponential(5, 0)) \n"
   ]
  },
  {
   "cell_type": "markdown",
   "id": "3cabcffd",
   "metadata": {},
   "source": [
    "### Exercise 2\n",
    " \n",
    "Write a function that uses recursion to calculate the $n$ th number in the Fibonacci sequence. The [fibonacci sequence](https://www.mathsisfun.com/numbers/fibonacci-sequence.html) is a series of numbers where each number is the sum of the two preceding ones. The sequence goes 0, 1, 1, 2, 3, 5, 8, 13, 21, and so on.\n",
    "\n",
    "Your function should take a single argument `n` and return the `nth` Fibonacci number.\n",
    "\n",
    "For example:\n",
    "- `fibonacci(0)` should return `0`\n",
    "- `fibonacci(1)` should return `1`\n",
    "- `fibonacci(7)` should return `13`"
   ]
  },
  {
   "cell_type": "code",
   "execution_count": 2,
   "id": "2d92dba4",
   "metadata": {},
   "outputs": [
    {
     "name": "stdout",
     "output_type": "stream",
     "text": [
      "0\n",
      "1\n",
      "5\n"
     ]
    }
   ],
   "source": [
    "def fibonacci(n):\n",
    "    # Base case: The first number (0th) in Fibonacci sequence is 0\n",
    "    if n == 0:\n",
    "        return 0\n",
    "    # The second number (1st) in Fibonacci sequence is 1\n",
    "    elif n == 1:\n",
    "        return 1\n",
    "    # Recursive case: Sum of the two preceding numbers\n",
    "    else:\n",
    "        return fibonacci(n - 1) + fibonacci(n - 2)\n",
    "\n",
    "# Examples\n",
    "print(fibonacci(0))  \n",
    "print(fibonacci(1)) \n",
    "print(fibonacci(5))  "
   ]
  },
  {
   "cell_type": "markdown",
   "id": "437b7f58",
   "metadata": {},
   "source": [
    "### Exercise 3\n",
    "\n",
    "Write a recursive function named `cumulate` that calculates the cumulative sum of all positive integers up to a given number `n`. The function should take a single integer argument `n` and return the sum of all positive integers from `1` to `n`.\n",
    "\n",
    "For example:\n",
    "- `cumulate(7)` should return `28`, as the sum of 1 + 2 + 3 + 4 + 5 + 6 + 7 equals 28.\n",
    "- `cumulate(3)` should return `6`, since 1 + 2 + 3 equals 6.\n",
    "- `cumulate(1)` should return `1`, as there's only one number to sum.\n",
    "\n",
    "Your function should handle cases where n is a positive integer."
   ]
  },
  {
   "cell_type": "code",
   "execution_count": 3,
   "id": "88e0c9af",
   "metadata": {},
   "outputs": [
    {
     "name": "stdout",
     "output_type": "stream",
     "text": [
      "28\n",
      "6\n",
      "1\n"
     ]
    }
   ],
   "source": [
    "def cumulate(n):\n",
    "    # Base case: If n is 1, return 1 as there's only one number to sum\n",
    "    if n == 1:\n",
    "        return 1\n",
    "    # Recursive case: Sum of current number n and the cumulative sum up to n-1\n",
    "    else:\n",
    "        return n + cumulate(n - 1)\n",
    "\n",
    "# Examples\n",
    "print(cumulate(7))  \n",
    "print(cumulate(3))  \n",
    "print(cumulate(1))  \n"
   ]
  },
  {
   "cell_type": "markdown",
   "id": "26fd094b-0fee-46f1-a4b8-73766813c42b",
   "metadata": {
    "tags": []
   },
   "source": [
    "#  \n",
    "\n",
    "<div align=\"center\" style=\" font-size: 80%; text-align: center; margin: 0 auto\">\n",
    "<img src=\"https://raw.githubusercontent.com/Explore-AI/Pictures/master/ExploreAI_logos/EAI_Blue_Dark.png\"  style=\"width:200px\";/>\n",
    "</div>"
   ]
  }
 ],
 "metadata": {
  "kernelspec": {
   "display_name": "Python 3 (ipykernel)",
   "language": "python",
   "name": "python3"
  },
  "language_info": {
   "codemirror_mode": {
    "name": "ipython",
    "version": 3
   },
   "file_extension": ".py",
   "mimetype": "text/x-python",
   "name": "python",
   "nbconvert_exporter": "python",
   "pygments_lexer": "ipython3",
   "version": "3.10.9"
  }
 },
 "nbformat": 4,
 "nbformat_minor": 5
}
